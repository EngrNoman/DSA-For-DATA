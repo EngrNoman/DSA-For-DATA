{
 "cells": [
  {
   "cell_type": "raw",
   "id": "5fbd2c62-f84a-431b-adf7-bbac6d159e8b",
   "metadata": {},
   "source": [
    "✅ 1. What is an Array? (Simple Explanation with Analogy)\n",
    "Definition:\n",
    "An array is a collection of elements stored in a fixed-size, ordered list. Each element is accessible by an index (position).\n",
    "\n",
    "🔧 Real-world Analogy:\n",
    "Think of an egg carton – it holds a fixed number of eggs (say, 12). Each egg sits in a specific slot (like index 0 to 11). If you want to find or replace the egg in the 5th slot, you can do it directly and quickly.\n",
    "\n",
    "🧠 Arrays are like shelves in a library — each shelf (index) holds a specific book (value). You don’t need to search sequentially; you go directly to the shelf using its number (index).\n"
   ]
  },
  {
   "cell_type": "code",
   "execution_count": 9,
   "id": "5c8251f4-393c-492e-afe3-6fe0df20976f",
   "metadata": {},
   "outputs": [
    {
     "name": "stdout",
     "output_type": "stream",
     "text": [
      "5\n",
      "4\n",
      "[4, 3, 99, 2, 8, 7, 8]\n",
      "[4, 3, 99, 2, 8, 7, 8, 3]\n",
      "[22, 4, 3, 99, 2, 8, 7, 8, 3]\n",
      "22\n",
      "4\n",
      "3\n",
      "2\n",
      "8\n",
      "7\n",
      "8\n",
      "3\n"
     ]
    }
   ],
   "source": [
    "# Bais Python Implementation \n",
    "arr = [4,3,5,2,8,7,8]\n",
    "\n",
    "# Accessing elements\n",
    "print(arr[2])\n",
    "print(arr[0])\n",
    "\n",
    "# Modify Elements\n",
    "arr[2] = 99\n",
    "print(arr)\n",
    "\n",
    "# Add element at the end of Arrray\n",
    "arr.append(3)\n",
    "print(arr)\n",
    "\n",
    "# Insert at specific positon\n",
    "arr.insert(0,22)\n",
    "print(arr)\n",
    "\n",
    "#Remove an Element \n",
    "arr.remove(99)\n",
    "\n",
    "#iterating\n",
    "for val in arr:\n",
    "    print(val)"
   ]
  },
  {
   "cell_type": "raw",
   "id": "a085a29e-ff2f-4862-bb65-b157d1218ccc",
   "metadata": {},
   "source": [
    "Key Operations and Time Complexities\n",
    "| Operation        | Description              | Time Complexity  |\n",
    "| ---------------- | ------------------------ | ---------------- |\n",
    "| Access `arr[i]`  | Get element at index `i` | O(1)             |\n",
    "| Insert at end    | `arr.append(x)`          | O(1) *amortized* |\n",
    "| Insert in middle | `arr.insert(i, x)`       | O(n)             |\n",
    "| Delete by value  | `arr.remove(x)`          | O(n)             |\n",
    "| Delete by index  | `del arr[i]`             | O(n)             |\n",
    "| Search for value | `x in arr`               | O(n)             |\n",
    "| Iterate          | `for x in arr`           | O(n)             |\n"
   ]
  },
  {
   "cell_type": "code",
   "execution_count": 11,
   "id": "e932fc73-2fe1-4f41-984b-7d34b3ab2401",
   "metadata": {},
   "outputs": [
    {
     "data": {
      "text/plain": [
       "[4, 3, 2, 8, 7, 8, 3]"
      ]
     },
     "execution_count": 11,
     "metadata": {},
     "output_type": "execute_result"
    }
   ],
   "source": [
    "#Delete by index\n",
    "del arr[0]\n",
    "arr"
   ]
  },
  {
   "cell_type": "code",
   "execution_count": 13,
   "id": "4a97d4da-d5d4-49c0-a9b1-3f33f052147b",
   "metadata": {},
   "outputs": [
    {
     "data": {
      "text/plain": [
       "True"
      ]
     },
     "execution_count": 13,
     "metadata": {},
     "output_type": "execute_result"
    }
   ],
   "source": [
    "#Search for value\n",
    "8 in arr"
   ]
  },
  {
   "cell_type": "raw",
   "id": "fe004a73-71c0-45e0-8e84-6828d16d18fb",
   "metadata": {},
   "source": [
    "Real-World Use Cases of Arrays\n",
    "🛠️ Data Engineering\n",
    "Batch processing: Read large files in chunks into arrays.\n",
    "\n",
    "ETL pipelines: Temporary storage of intermediate results (e.g., parsed CSV rows).\n",
    "\n",
    "Buffering and caching: Data buffering before writing to databases or streams.\n",
    "\n",
    "📊 Data Analysis\n",
    "Vectorized operations using NumPy arrays.\n",
    "\n",
    "Filtering and slicing datasets quickly.\n",
    "\n",
    "Aggregation (sum, mean, median) operations across numeric columns.\n",
    "\n",
    "🤖 Data Science / Machine Learning\n",
    "Feature vectors: Each row in a dataset (array of features).\n",
    "\n",
    "Images and signals: Represented as multidimensional arrays.\n",
    "\n",
    "Matrix operations: Model weights, inputs, predictions.\n",
    "\n"
   ]
  },
  {
   "cell_type": "code",
   "execution_count": 25,
   "id": "c7dd3086-0369-4286-8393-1179ef33a6dc",
   "metadata": {},
   "outputs": [
    {
     "name": "stdout",
     "output_type": "stream",
     "text": [
      "Reverse Array is : [5, 4, 3, 2, 1]\n",
      "Max is: 60 and Min is: 1\n",
      "Remove Duplicate Array: [1, 2, 4, 5]\n"
     ]
    }
   ],
   "source": [
    "# Beginner-Friendly Coding Problems\n",
    "\n",
    "# 1. Reverse an array\n",
    "arr1 = [1,2,3,4,5]\n",
    "arr1.reverse()\n",
    "print(\"Reverse Array is :\" ,arr1)\n",
    "\n",
    "# 2. Find maximum and minimum Value\n",
    "arr2= [3,55,6,1,4,5,60]\n",
    "print(f'Max is: {max(arr2)} and Min is: {min(arr2)}')\n",
    "\n",
    "# 3. Remove Duplicates \n",
    "arr3 = [2,1,5,4,2,5]\n",
    "arr3 = list(set(arr3))\n",
    "print('Remove Duplicate Array:',arr3)"
   ]
  },
  {
   "cell_type": "raw",
   "id": "5a475fe0-07c4-4c56-865b-6bbdbeae52d4",
   "metadata": {},
   "source": [
    "Using Arrays in a Data Project / Pipeline\n",
    "Store cleaned or transformed data in arrays before pushing to a database.\n",
    "\n",
    "Use NumPy arrays to preprocess training data for ML models.\n",
    "\n",
    "Cache time series or streaming data points in an array before windowed aggregation.\n",
    "\n",
    "Manage queue or batch of records in ETL or Airflow DAGs."
   ]
  },
  {
   "cell_type": "code",
   "execution_count": 29,
   "id": "6e3f55b6-e25a-4205-81a7-aa7a72321454",
   "metadata": {},
   "outputs": [
    {
     "name": "stdout",
     "output_type": "stream",
     "text": [
      "Clean Data: [10, 20, 2]\n"
     ]
    }
   ],
   "source": [
    "#Example\n",
    "\n",
    "unClean = ['10' , '20' , 'NaN', '2']\n",
    "clean =[]\n",
    "\n",
    "for x in unClean:\n",
    "    if x != 'NaN':\n",
    "        clean.append(int(x))\n",
    "\n",
    "print('Clean Data:' , clean)"
   ]
  },
  {
   "cell_type": "code",
   "execution_count": null,
   "id": "2ab9b340-a81d-4d40-a352-3a34e9857bf7",
   "metadata": {},
   "outputs": [],
   "source": []
  }
 ],
 "metadata": {
  "kernelspec": {
   "display_name": "Python 3 (ipykernel)",
   "language": "python",
   "name": "python3"
  },
  "language_info": {
   "codemirror_mode": {
    "name": "ipython",
    "version": 3
   },
   "file_extension": ".py",
   "mimetype": "text/x-python",
   "name": "python",
   "nbconvert_exporter": "python",
   "pygments_lexer": "ipython3",
   "version": "3.12.4"
  }
 },
 "nbformat": 4,
 "nbformat_minor": 5
}
